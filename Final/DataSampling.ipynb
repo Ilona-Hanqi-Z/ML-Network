{
 "cells": [
  {
   "cell_type": "markdown",
   "metadata": {},
   "source": [
    "### Since the raw data provided online is too large, we randomly selected 100,000 samples for each class."
   ]
  },
  {
   "cell_type": "code",
   "execution_count": 1,
   "metadata": {},
   "outputs": [],
   "source": [
    "import pandas as pd"
   ]
  },
  {
   "cell_type": "markdown",
   "metadata": {},
   "source": [
    "## DNS"
   ]
  },
  {
   "cell_type": "code",
   "execution_count": 2,
   "metadata": {},
   "outputs": [
    {
     "name": "stderr",
     "output_type": "stream",
     "text": [
      "/opt/anaconda3/lib/python3.7/site-packages/IPython/core/interactiveshell.py:3063: DtypeWarning: Columns (85) have mixed types.Specify dtype option on import or set low_memory=False.\n",
      "  interactivity=interactivity, compiler=compiler, result=result)\n"
     ]
    }
   ],
   "source": [
    "dns = pd.read_csv(\"01-12/DrDoS_DNS.csv\")"
   ]
  },
  {
   "cell_type": "code",
   "execution_count": 3,
   "metadata": {},
   "outputs": [
    {
     "data": {
      "text/plain": [
       "DrDoS_DNS    5071011\n",
       "BENIGN          3402\n",
       "Name:  Label, dtype: int64"
      ]
     },
     "execution_count": 3,
     "metadata": {},
     "output_type": "execute_result"
    }
   ],
   "source": [
    "dns[' Label'].value_counts()"
   ]
  },
  {
   "cell_type": "code",
   "execution_count": 4,
   "metadata": {},
   "outputs": [],
   "source": [
    "# unify the label\n",
    "dns[' Label'] = dns[' Label'].replace({'DrDoS_DNS':'DNS', 'DrDoS_LDAP':'LDAP', 'DrDoS_MSSQL':'MSSQL',\n",
    "                                       'DrDoS_NetBIOS':'NetBIOS', 'DrDoS_NTP':'NTP', 'DrDoS_SNMP':'SNMP',\n",
    "                                       'DrDoS_SSDP':'SSDP', 'DrDoS_UDP':'UDP', 'UDP-lag':'UDPLag'})\n",
    "# separate benign observations\n",
    "benign_dns = dns[dns[' Label'] == 'BENIGN']\n",
    "dns = dns[dns[' Label'] == 'DNS']\n",
    "# get 100,000 random sample \n",
    "DNS = dns.sample(n=100000, random_state=1)\n",
    "# save as new csv file\n",
    "#DNS.to_csv('DNS.csv', index=False)  \n",
    "\n",
    "#del dns, DNS"
   ]
  },
  {
   "cell_type": "markdown",
   "metadata": {},
   "source": [
    "## UDPLag"
   ]
  },
  {
   "cell_type": "code",
   "execution_count": 5,
   "metadata": {
    "scrolled": true
   },
   "outputs": [],
   "source": [
    "udplag1 = pd.read_csv('01-12/UDPLag.csv') \n",
    "udplag2 = pd.read_csv('03-11/UDPLag.csv')"
   ]
  },
  {
   "cell_type": "code",
   "execution_count": 6,
   "metadata": {},
   "outputs": [],
   "source": [
    "# unify labels\n",
    "udplag1[' Label'] = udplag1[' Label'].replace({'DrDoS_DNS':'DNS', 'DrDoS_LDAP':'LDAP', 'DrDoS_MSSQL':'MSSQL',\n",
    "                                               'DrDoS_NetBIOS':'NetBIOS', 'DrDoS_NTP':'NTP', 'DrDoS_SNMP':'SNMP',\n",
    "                                               'DrDoS_SSDP':'SSDP', 'DrDoS_UDP':'UDP', 'UDP-lag':'UDPLag'})"
   ]
  },
  {
   "cell_type": "code",
   "execution_count": 7,
   "metadata": {},
   "outputs": [
    {
     "data": {
      "text/plain": [
       "UDPLag     366461\n",
       "BENIGN       3705\n",
       "WebDDoS       439\n",
       "Name:  Label, dtype: int64"
      ]
     },
     "execution_count": 7,
     "metadata": {},
     "output_type": "execute_result"
    }
   ],
   "source": [
    "udplag1[' Label'].value_counts()"
   ]
  },
  {
   "cell_type": "code",
   "execution_count": 8,
   "metadata": {},
   "outputs": [
    {
     "data": {
      "text/plain": [
       "Syn       606749\n",
       "UDP       112475\n",
       "BENIGN      4068\n",
       "UDPLag      1873\n",
       "Name:  Label, dtype: int64"
      ]
     },
     "execution_count": 8,
     "metadata": {},
     "output_type": "execute_result"
    }
   ],
   "source": [
    "udplag2[' Label'].value_counts()"
   ]
  },
  {
   "cell_type": "code",
   "execution_count": 9,
   "metadata": {},
   "outputs": [],
   "source": [
    "# separate benign observations\n",
    "webddos = udplag1[udplag1[' Label'] == 'WebDDoS']\n",
    "syn0 = udplag2[udplag2[' Label'] == 'Syn']\n",
    "udp0 = udplag2[udplag2[' Label'] == 'UDP']\n",
    "benign_udplag1 = udplag1[udplag1[' Label'] == 'BENIGN']\n",
    "benign_udplag2 = udplag2[udplag2[' Label'] == 'BENIGN']\n",
    "udplag1 = udplag1[udplag1[' Label'] == 'UDPLag']\n",
    "udplag2 = udplag2[udplag2[' Label'] == 'UDPLag']\n",
    "# concatenate two dataframe\n",
    "UDPLag = pd.concat([udplag1, udplag2])\n",
    "UDPLag = UDPLag.sample(n=100000, random_state=1)\n",
    "# save as csv file\n",
    "#UDPLag.to_csv('UDPLag.csv', index=False)"
   ]
  },
  {
   "cell_type": "code",
   "execution_count": 10,
   "metadata": {},
   "outputs": [],
   "source": [
    "del udplag1\n",
    "del udplag2\n",
    "#del UDPLag"
   ]
  },
  {
   "cell_type": "markdown",
   "metadata": {},
   "source": [
    "## UDP"
   ]
  },
  {
   "cell_type": "code",
   "execution_count": 11,
   "metadata": {},
   "outputs": [],
   "source": [
    "udp1 = pd.read_csv('01-12/DrDoS_UDP.csv')\n",
    "udp2 = pd.read_csv('03-11/UDP.csv')"
   ]
  },
  {
   "cell_type": "code",
   "execution_count": 12,
   "metadata": {},
   "outputs": [],
   "source": [
    "# unify labels\n",
    "udp1[' Label'] = udp1[' Label'].replace({'DrDoS_DNS':'DNS', 'DrDoS_LDAP':'LDAP', 'DrDoS_MSSQL':'MSSQL',\n",
    "                                         'DrDoS_NetBIOS':'NetBIOS', 'DrDoS_NTP':'NTP', 'DrDoS_SNMP':'SNMP',\n",
    "                                         'DrDoS_SSDP':'SSDP', 'DrDoS_UDP':'UDP', 'UDP-lag':'UDPLag'})"
   ]
  },
  {
   "cell_type": "code",
   "execution_count": 13,
   "metadata": {},
   "outputs": [
    {
     "data": {
      "text/plain": [
       "UDP       3134645\n",
       "BENIGN       2157\n",
       "Name:  Label, dtype: int64"
      ]
     },
     "execution_count": 13,
     "metadata": {},
     "output_type": "execute_result"
    }
   ],
   "source": [
    "udp1[' Label'].value_counts()"
   ]
  },
  {
   "cell_type": "code",
   "execution_count": 14,
   "metadata": {},
   "outputs": [
    {
     "data": {
      "text/plain": [
       "UDP       3754680\n",
       "MSSQL       24392\n",
       "BENIGN       3134\n",
       "Name:  Label, dtype: int64"
      ]
     },
     "execution_count": 14,
     "metadata": {},
     "output_type": "execute_result"
    }
   ],
   "source": [
    "udp2[' Label'].value_counts()"
   ]
  },
  {
   "cell_type": "code",
   "execution_count": 15,
   "metadata": {},
   "outputs": [],
   "source": [
    "# separate benign observations\n",
    "mssql0 = udp2[udp2[' Label'] == 'MSSQL']\n",
    "benign_udp1 = udp1[udp1[' Label'] == 'BENIGN']\n",
    "benign_udp2 = udp2[udp2[' Label'] == 'BENIGN']\n",
    "udp1 = udp1[udp1[' Label'] == 'UDP']\n",
    "udp2 = udp2[udp2[' Label'] == 'UDP']\n",
    "# concatenate two dataframe\n",
    "UDP = pd.concat([udp0, udp1, udp2])\n",
    "UDP = UDP.sample(n=100000)\n",
    "# save as csv file\n",
    "#UDP.to_csv('UDP.csv', index=False)"
   ]
  },
  {
   "cell_type": "code",
   "execution_count": 16,
   "metadata": {},
   "outputs": [],
   "source": [
    "del udp0, udp1, udp2\n",
    "#del UDP"
   ]
  },
  {
   "cell_type": "markdown",
   "metadata": {},
   "source": [
    "## MSSQL"
   ]
  },
  {
   "cell_type": "code",
   "execution_count": 17,
   "metadata": {},
   "outputs": [],
   "source": [
    "mssql1 = pd.read_csv('01-12/DrDoS_MSSQL.csv')\n",
    "mssql2 = pd.read_csv('03-11/MSSQL.csv')"
   ]
  },
  {
   "cell_type": "code",
   "execution_count": 18,
   "metadata": {},
   "outputs": [],
   "source": [
    "# unify labels\n",
    "mssql1[' Label'] = mssql1[' Label'].replace({'DrDoS_DNS':'DNS', 'DrDoS_LDAP':'LDAP', 'DrDoS_MSSQL':'MSSQL',\n",
    "                                        'DrDoS_NetBIOS':'NetBIOS', 'DrDoS_NTP':'NTP', 'DrDoS_SNMP':'SNMP',\n",
    "                                        'DrDoS_SSDP':'SSDP', 'DrDoS_UDP':'UDP', 'UDP-lag':'UDPLag'})"
   ]
  },
  {
   "cell_type": "code",
   "execution_count": 19,
   "metadata": {},
   "outputs": [
    {
     "data": {
      "text/plain": [
       "MSSQL     4522492\n",
       "BENIGN       2006\n",
       "Name:  Label, dtype: int64"
      ]
     },
     "execution_count": 19,
     "metadata": {},
     "output_type": "execute_result"
    }
   ],
   "source": [
    "mssql1[' Label'].value_counts()"
   ]
  },
  {
   "cell_type": "code",
   "execution_count": 20,
   "metadata": {},
   "outputs": [
    {
     "data": {
      "text/plain": [
       "MSSQL     5763061\n",
       "LDAP         9931\n",
       "BENIGN       2794\n",
       "Name:  Label, dtype: int64"
      ]
     },
     "execution_count": 20,
     "metadata": {},
     "output_type": "execute_result"
    }
   ],
   "source": [
    "mssql2[' Label'].value_counts()"
   ]
  },
  {
   "cell_type": "code",
   "execution_count": 21,
   "metadata": {},
   "outputs": [],
   "source": [
    "# separate benign observations\n",
    "ldap0 = mssql2[mssql2[' Label'] == 'LDAP']\n",
    "benign_mssql1 = mssql1[mssql1[' Label'] == 'BENIGN']\n",
    "benign_mssql2 = mssql2[mssql2[' Label'] == 'BENIGN']\n",
    "mssql1 = mssql1[mssql1[' Label'] == 'MSSQL']\n",
    "mssql2 = mssql2[mssql2[' Label'] == 'MSSQL']\n",
    "# concatenate two dataframe\n",
    "MSSQL = pd.concat([mssql0, mssql1, mssql2])\n",
    "MSSQL = MSSQL.sample(n=100000, random_state=1)\n",
    "# save as csv file\n",
    "#MSSQL.to_csv('MSSQL.csv', index=False)  "
   ]
  },
  {
   "cell_type": "code",
   "execution_count": 22,
   "metadata": {},
   "outputs": [],
   "source": [
    "del mssql0, mssql1, mssql2\n",
    "#del MSSQL"
   ]
  },
  {
   "cell_type": "markdown",
   "metadata": {},
   "source": [
    "## LDAP"
   ]
  },
  {
   "cell_type": "code",
   "execution_count": 23,
   "metadata": {},
   "outputs": [],
   "source": [
    "ldap1 = pd.read_csv('01-12/DrDoS_LDAP.csv')\n",
    "ldap2 = pd.read_csv('03-11/LDAP.csv')"
   ]
  },
  {
   "cell_type": "code",
   "execution_count": 24,
   "metadata": {},
   "outputs": [
    {
     "data": {
      "text/plain": [
       "DrDoS_LDAP    2179930\n",
       "BENIGN           1612\n",
       "Name:  Label, dtype: int64"
      ]
     },
     "execution_count": 24,
     "metadata": {},
     "output_type": "execute_result"
    }
   ],
   "source": [
    "ldap1[' Label'].value_counts()"
   ]
  },
  {
   "cell_type": "code",
   "execution_count": 25,
   "metadata": {},
   "outputs": [
    {
     "data": {
      "text/plain": [
       "LDAP       1905191\n",
       "NetBIOS     202919\n",
       "BENIGN        5124\n",
       "Name:  Label, dtype: int64"
      ]
     },
     "execution_count": 25,
     "metadata": {},
     "output_type": "execute_result"
    }
   ],
   "source": [
    "ldap2[' Label'].value_counts()"
   ]
  },
  {
   "cell_type": "code",
   "execution_count": 26,
   "metadata": {},
   "outputs": [],
   "source": [
    "# unify labels\n",
    "ldap1[' Label'] = ldap1[' Label'].replace({'DrDoS_DNS':'DNS', 'DrDoS_LDAP':'LDAP', 'DrDoS_MSSQL':'MSSQL',\n",
    "                                        'DrDoS_NetBIOS':'NetBIOS', 'DrDoS_NTP':'NTP', 'DrDoS_SNMP':'SNMP',\n",
    "                                        'DrDoS_SSDP':'SSDP', 'DrDoS_UDP':'UDP', 'UDP-lag':'UDPLag'})\n",
    "\n",
    "# separate benign observations\n",
    "netbios0 = ldap2[ldap2[' Label'] == 'NetBIOS']\n",
    "benign_ldap1 = ldap1[ldap1[' Label'] == 'BENIGN']\n",
    "benign_ldap2 = ldap2[ldap2[' Label'] == 'BENIGN']\n",
    "ldap1 = ldap1[ldap1[' Label'] == 'LDAP']\n",
    "ldap2 = ldap2[ldap2[' Label'] == 'LDAP']\n",
    "# concatenate two dataframe\n",
    "LDAP = pd.concat([ldap0, ldap1, ldap2])\n",
    "LDAP = LDAP.sample(n=100000, random_state=1)\n",
    "# save as csv file\n",
    "#LDAP.to_csv('LDAP.csv', index=False)  "
   ]
  },
  {
   "cell_type": "code",
   "execution_count": 27,
   "metadata": {},
   "outputs": [],
   "source": [
    "del ldap0, ldap1, ldap2\n",
    "#del LDAP"
   ]
  },
  {
   "cell_type": "markdown",
   "metadata": {},
   "source": [
    "## NetBIOS"
   ]
  },
  {
   "cell_type": "code",
   "execution_count": 28,
   "metadata": {},
   "outputs": [],
   "source": [
    "netbios1 = pd.read_csv('01-12/DrDoS_NetBIOS.csv')\n",
    "netbios2 = pd.read_csv('03-11/NetBIOS.csv')"
   ]
  },
  {
   "cell_type": "code",
   "execution_count": 29,
   "metadata": {},
   "outputs": [],
   "source": [
    "# unify labels\n",
    "netbios1[' Label'] = netbios1[' Label'].replace({'DrDoS_DNS':'DNS', 'DrDoS_LDAP':'LDAP', 'DrDoS_MSSQL':'MSSQL',\n",
    "                                                 'DrDoS_NetBIOS':'NetBIOS', 'DrDoS_NTP':'NTP', 'DrDoS_SNMP':'SNMP',\n",
    "                                                 'DrDoS_SSDP':'SSDP', 'DrDoS_UDP':'UDP', 'UDP-lag':'UDPLag'})"
   ]
  },
  {
   "cell_type": "code",
   "execution_count": 30,
   "metadata": {},
   "outputs": [
    {
     "data": {
      "text/plain": [
       "NetBIOS    4093279\n",
       "BENIGN        1707\n",
       "Name:  Label, dtype: int64"
      ]
     },
     "execution_count": 30,
     "metadata": {},
     "output_type": "execute_result"
    }
   ],
   "source": [
    "netbios1[' Label'].value_counts()"
   ]
  },
  {
   "cell_type": "code",
   "execution_count": 31,
   "metadata": {},
   "outputs": [
    {
     "data": {
      "text/plain": [
       "NetBIOS    3454578\n",
       "BENIGN        1321\n",
       "Name:  Label, dtype: int64"
      ]
     },
     "execution_count": 31,
     "metadata": {},
     "output_type": "execute_result"
    }
   ],
   "source": [
    "netbios2[' Label'].value_counts()"
   ]
  },
  {
   "cell_type": "code",
   "execution_count": 32,
   "metadata": {},
   "outputs": [],
   "source": [
    "# separate benign observations\n",
    "benign_netbios1 = netbios1[netbios1[' Label'] == 'BENIGN']\n",
    "benign_netbios2 = netbios2[netbios2[' Label'] == 'BENIGN']\n",
    "netbios1 = netbios1[netbios1[' Label'] == 'NetBIOS']\n",
    "netbios2 = netbios2[netbios2[' Label'] == 'NetBIOS']\n",
    "# concatenate two dataframe\n",
    "NetBIOS = pd.concat([netbios0, netbios1, netbios2])\n",
    "NetBIOS = NetBIOS.sample(n=100000, random_state=1)\n",
    "# save as csv file\n",
    "#NetBIOS.to_csv('NetBIOS.csv', index=False)  "
   ]
  },
  {
   "cell_type": "code",
   "execution_count": 33,
   "metadata": {},
   "outputs": [],
   "source": [
    "del netbios0, netbios1, netbios2#, NetBIOS"
   ]
  },
  {
   "cell_type": "markdown",
   "metadata": {},
   "source": [
    "## NTP"
   ]
  },
  {
   "cell_type": "code",
   "execution_count": 34,
   "metadata": {},
   "outputs": [],
   "source": [
    "ntp = pd.read_csv('01-12/DrDoS_NTP.csv')"
   ]
  },
  {
   "cell_type": "code",
   "execution_count": 35,
   "metadata": {},
   "outputs": [],
   "source": [
    "# unify labels\n",
    "ntp[' Label'] = ntp[' Label'].replace({'DrDoS_DNS':'DNS', 'DrDoS_LDAP':'LDAP', 'DrDoS_MSSQL':'MSSQL',\n",
    "                                       'DrDoS_NetBIOS':'NetBIOS', 'DrDoS_NTP':'NTP', 'DrDoS_SNMP':'SNMP',\n",
    "                                       'DrDoS_SSDP':'SSDP', 'DrDoS_UDP':'UDP', 'UDP-lag':'UDPLag'})"
   ]
  },
  {
   "cell_type": "code",
   "execution_count": 36,
   "metadata": {},
   "outputs": [
    {
     "data": {
      "text/plain": [
       "NTP       1202642\n",
       "BENIGN      14365\n",
       "Name:  Label, dtype: int64"
      ]
     },
     "execution_count": 36,
     "metadata": {},
     "output_type": "execute_result"
    }
   ],
   "source": [
    "ntp[' Label'].value_counts()"
   ]
  },
  {
   "cell_type": "code",
   "execution_count": 38,
   "metadata": {},
   "outputs": [],
   "source": [
    "# separate benign observations\n",
    "benign_ntp = ntp[ntp[' Label'] == 'BENIGN']\n",
    "ntp = ntp[ntp[' Label'] == 'NTP']\n",
    "# get 100,000 random sample \n",
    "ntp = ntp.sample(n=100000, random_state=1)\n",
    "# save as new csv file\n",
    "#ntp.to_csv('NTP.csv', index=False)  \n",
    "\n",
    "#del ntp"
   ]
  },
  {
   "cell_type": "markdown",
   "metadata": {},
   "source": [
    "## SNMP"
   ]
  },
  {
   "cell_type": "code",
   "execution_count": 39,
   "metadata": {},
   "outputs": [],
   "source": [
    "snmp = pd.read_csv('01-12/DrDoS_SNMP.csv')"
   ]
  },
  {
   "cell_type": "code",
   "execution_count": 40,
   "metadata": {},
   "outputs": [],
   "source": [
    "# unify labels\n",
    "snmp[' Label'] = snmp[' Label'].replace({'DrDoS_DNS':'DNS', 'DrDoS_LDAP':'LDAP', 'DrDoS_MSSQL':'MSSQL',\n",
    "                                         'DrDoS_NetBIOS':'NetBIOS', 'DrDoS_NTP':'NTP', 'DrDoS_SNMP':'SNMP',\n",
    "                                         'DrDoS_SSDP':'SSDP', 'DrDoS_UDP':'UDP', 'UDP-lag':'UDPLag'})"
   ]
  },
  {
   "cell_type": "code",
   "execution_count": 41,
   "metadata": {},
   "outputs": [
    {
     "data": {
      "text/plain": [
       "SNMP      5159870\n",
       "BENIGN       1507\n",
       "Name:  Label, dtype: int64"
      ]
     },
     "execution_count": 41,
     "metadata": {},
     "output_type": "execute_result"
    }
   ],
   "source": [
    "snmp[' Label'].value_counts()"
   ]
  },
  {
   "cell_type": "code",
   "execution_count": 42,
   "metadata": {},
   "outputs": [],
   "source": [
    "# separate benign observations\n",
    "benign_snmp = snmp[snmp[' Label'] == 'BENIGN']\n",
    "snmp = snmp[snmp[' Label'] == 'SNMP']"
   ]
  },
  {
   "cell_type": "code",
   "execution_count": 44,
   "metadata": {},
   "outputs": [],
   "source": [
    "# get 100,000 random sample \n",
    "snmp = snmp.sample(n=100000, random_state=1)\n",
    "# save as new csv file\n",
    "#snmp.to_csv('SNMP.csv', index=False)  \n",
    "\n",
    "#del snmp"
   ]
  },
  {
   "cell_type": "markdown",
   "metadata": {},
   "source": [
    "## SSDP"
   ]
  },
  {
   "cell_type": "code",
   "execution_count": 45,
   "metadata": {},
   "outputs": [],
   "source": [
    "ssdp = pd.read_csv('01-12/DrDoS_SSDP.csv')"
   ]
  },
  {
   "cell_type": "code",
   "execution_count": 46,
   "metadata": {},
   "outputs": [],
   "source": [
    "# unify labels\n",
    "ssdp[' Label'] = ssdp[' Label'].replace({'DrDoS_DNS':'DNS', 'DrDoS_LDAP':'LDAP', 'DrDoS_MSSQL':'MSSQL',\n",
    "                                         'DrDoS_NetBIOS':'NetBIOS', 'DrDoS_NTP':'NTP', 'DrDoS_SNMP':'SNMP',\n",
    "                                         'DrDoS_SSDP':'SSDP', 'DrDoS_UDP':'UDP', 'UDP-lag':'UDPLag'})"
   ]
  },
  {
   "cell_type": "code",
   "execution_count": 47,
   "metadata": {},
   "outputs": [
    {
     "data": {
      "text/plain": [
       "SSDP      2610611\n",
       "BENIGN        763\n",
       "Name:  Label, dtype: int64"
      ]
     },
     "execution_count": 47,
     "metadata": {},
     "output_type": "execute_result"
    }
   ],
   "source": [
    "ssdp[' Label'].value_counts()"
   ]
  },
  {
   "cell_type": "code",
   "execution_count": 48,
   "metadata": {},
   "outputs": [],
   "source": [
    "# separate benign observations\n",
    "benign_ssdp = ssdp[ssdp[' Label'] == 'BENIGN']\n",
    "ssdp = ssdp[ssdp[' Label'] == 'SSDP']"
   ]
  },
  {
   "cell_type": "code",
   "execution_count": 49,
   "metadata": {},
   "outputs": [],
   "source": [
    "# get 100,000 random sample \n",
    "ssdp = ssdp.sample(n=100000, random_state=1)\n",
    "# save as new csv file\n",
    "#ssdp.to_csv('SSDP.csv', index=False)  "
   ]
  },
  {
   "cell_type": "code",
   "execution_count": 50,
   "metadata": {},
   "outputs": [],
   "source": [
    "#del ssdp"
   ]
  },
  {
   "cell_type": "markdown",
   "metadata": {},
   "source": [
    "## Syn"
   ]
  },
  {
   "cell_type": "code",
   "execution_count": 51,
   "metadata": {},
   "outputs": [],
   "source": [
    "syn1 = pd.read_csv('01-12/Syn.csv')\n",
    "syn2 = pd.read_csv('03-11/Syn.csv')"
   ]
  },
  {
   "cell_type": "code",
   "execution_count": 52,
   "metadata": {},
   "outputs": [
    {
     "data": {
      "text/plain": [
       "Syn       1582289\n",
       "BENIGN        392\n",
       "Name:  Label, dtype: int64"
      ]
     },
     "execution_count": 52,
     "metadata": {},
     "output_type": "execute_result"
    }
   ],
   "source": [
    "syn1[' Label'].value_counts()"
   ]
  },
  {
   "cell_type": "code",
   "execution_count": 53,
   "metadata": {},
   "outputs": [
    {
     "data": {
      "text/plain": [
       "Syn       4284751\n",
       "BENIGN      35790\n",
       "Name:  Label, dtype: int64"
      ]
     },
     "execution_count": 53,
     "metadata": {},
     "output_type": "execute_result"
    }
   ],
   "source": [
    "syn2[' Label'].value_counts()"
   ]
  },
  {
   "cell_type": "code",
   "execution_count": 54,
   "metadata": {},
   "outputs": [],
   "source": [
    "# separate benign observations\n",
    "benign_syn1 = syn1[syn1[' Label'] == 'BENIGN']\n",
    "benign_syn2 = syn2[syn2[' Label'] == 'BENIGN']\n",
    "syn1 = syn1[syn1[' Label'] == 'Syn']\n",
    "syn2 = syn2[syn2[' Label'] == 'Syn']\n",
    "# concatenate two dataframe\n",
    "Syn = pd.concat([syn0, syn1, syn2])\n",
    "Syn = Syn.sample(n=100000, random_state=1)\n",
    "# save as csv file\n",
    "#Syn.to_csv('Syn.csv', index=False)"
   ]
  },
  {
   "cell_type": "code",
   "execution_count": 55,
   "metadata": {},
   "outputs": [],
   "source": [
    "#del syn0, syn1, syn2\n",
    "#del Syn"
   ]
  },
  {
   "cell_type": "markdown",
   "metadata": {},
   "source": [
    "## TFTP"
   ]
  },
  {
   "cell_type": "code",
   "execution_count": 56,
   "metadata": {},
   "outputs": [],
   "source": [
    "tftp = pd.read_csv('01-12/TFTP.csv')"
   ]
  },
  {
   "cell_type": "code",
   "execution_count": 57,
   "metadata": {},
   "outputs": [
    {
     "data": {
      "text/plain": [
       "TFTP      20082580\n",
       "BENIGN       25247\n",
       "Name:  Label, dtype: int64"
      ]
     },
     "execution_count": 57,
     "metadata": {},
     "output_type": "execute_result"
    }
   ],
   "source": [
    "tftp[' Label'].value_counts()"
   ]
  },
  {
   "cell_type": "code",
   "execution_count": 58,
   "metadata": {},
   "outputs": [],
   "source": [
    "# separate benign observations\n",
    "benign_tftp = tftp[tftp[' Label'] == 'BENIGN']\n",
    "tftp = tftp[tftp[' Label'] == 'TFTP']"
   ]
  },
  {
   "cell_type": "code",
   "execution_count": 59,
   "metadata": {},
   "outputs": [],
   "source": [
    "# get 100,000 random sample \n",
    "tftp = tftp.sample(n=100000, random_state=1)\n",
    "# save as new csv file\n",
    "#tftp.to_csv('TFTP.csv', index=False)"
   ]
  },
  {
   "cell_type": "code",
   "execution_count": 60,
   "metadata": {},
   "outputs": [],
   "source": [
    "#del tftp"
   ]
  },
  {
   "cell_type": "markdown",
   "metadata": {},
   "source": [
    "## PortMap"
   ]
  },
  {
   "cell_type": "code",
   "execution_count": 61,
   "metadata": {},
   "outputs": [],
   "source": [
    "portmap = pd.read_csv('03-11/Portmap.csv')"
   ]
  },
  {
   "cell_type": "code",
   "execution_count": 62,
   "metadata": {},
   "outputs": [
    {
     "data": {
      "text/plain": [
       "Portmap    186960\n",
       "BENIGN       4734\n",
       "Name:  Label, dtype: int64"
      ]
     },
     "execution_count": 62,
     "metadata": {},
     "output_type": "execute_result"
    }
   ],
   "source": [
    "portmap[' Label'].value_counts()"
   ]
  },
  {
   "cell_type": "code",
   "execution_count": 63,
   "metadata": {},
   "outputs": [],
   "source": [
    "# separate benign observations\n",
    "benign_portmap = portmap[portmap[' Label'] == 'BENIGN']\n",
    "portmap = portmap[portmap[' Label'] == 'Portmap']\n",
    "# get 100,000 random sample \n",
    "portmap = portmap.sample(n=100000, random_state=1)\n",
    "# save as new csv file\n",
    "#portmap.to_csv('Portmap.csv', index=False)\n",
    "#del portmap"
   ]
  },
  {
   "cell_type": "markdown",
   "metadata": {},
   "source": [
    "## Benign"
   ]
  },
  {
   "cell_type": "code",
   "execution_count": 64,
   "metadata": {},
   "outputs": [],
   "source": [
    "Benign = pd.concat([benign_dns, benign_ldap1, benign_ldap2, benign_mssql1, benign_mssql2, benign_netbios1, \n",
    "                    benign_netbios2, benign_ntp, benign_snmp, benign_ssdp, benign_udp1, benign_udp2, benign_syn1,\n",
    "                    benign_syn2, benign_tftp, benign_udplag1, benign_udplag2, benign_portmap])"
   ]
  },
  {
   "cell_type": "code",
   "execution_count": 65,
   "metadata": {},
   "outputs": [],
   "source": [
    "Benign = Benign.sample(n=100000, random_state=1)\n",
    "#Benign.to_csv('Benign.csv', index=False)"
   ]
  },
  {
   "cell_type": "code",
   "execution_count": 66,
   "metadata": {},
   "outputs": [],
   "source": [
    "#del Benign"
   ]
  },
  {
   "cell_type": "markdown",
   "metadata": {},
   "source": [
    "## Agg. data To CSV"
   ]
  },
  {
   "cell_type": "code",
   "execution_count": 67,
   "metadata": {},
   "outputs": [
    {
     "data": {
      "text/plain": [
       "MSSQL      100000\n",
       "Syn        100000\n",
       "BENIGN     100000\n",
       "TFTP       100000\n",
       "SSDP       100000\n",
       "DNS        100000\n",
       "NTP        100000\n",
       "Portmap    100000\n",
       "UDPLag     100000\n",
       "UDP        100000\n",
       "SNMP       100000\n",
       "NetBIOS    100000\n",
       "LDAP       100000\n",
       "WebDDoS       439\n",
       "Name:  Label, dtype: int64"
      ]
     },
     "execution_count": 67,
     "metadata": {},
     "output_type": "execute_result"
    }
   ],
   "source": [
    "sample = pd.concat([DNS, LDAP, UDPLag, UDP, MSSQL, NetBIOS, ntp, snmp, ssdp, Syn, tftp, portmap, Benign, webddos])\n",
    "sample[' Label'].value_counts()"
   ]
  },
  {
   "cell_type": "code",
   "execution_count": 68,
   "metadata": {},
   "outputs": [],
   "source": [
    "sample.to_csv('sample.csv', index=False)"
   ]
  }
 ],
 "metadata": {
  "kernelspec": {
   "display_name": "Python 3",
   "language": "python",
   "name": "python3"
  },
  "language_info": {
   "codemirror_mode": {
    "name": "ipython",
    "version": 3
   },
   "file_extension": ".py",
   "mimetype": "text/x-python",
   "name": "python",
   "nbconvert_exporter": "python",
   "pygments_lexer": "ipython3",
   "version": "3.7.6"
  }
 },
 "nbformat": 4,
 "nbformat_minor": 4
}
