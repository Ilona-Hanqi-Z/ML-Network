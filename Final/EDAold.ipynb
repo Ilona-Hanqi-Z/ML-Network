{
 "cells": [
  {
   "cell_type": "code",
   "execution_count": 1,
   "metadata": {},
   "outputs": [],
   "source": [
    "import numpy as np\n",
    "import pandas as pd\n",
    "import matplotlib.pyplot as plt\n",
    "import seaborn as sns\n",
    "from sklearn.decomposition import PCA\n",
    "#from yellowbrick.features import PCA\n",
    "import gc\n",
    "import warnings\n",
    "warnings.filterwarnings('ignore')\n",
    "%matplotlib inline"
   ]
  },
  {
   "cell_type": "code",
   "execution_count": 2,
   "metadata": {},
   "outputs": [],
   "source": [
    "dns1 = pd.read_csv(\"01-12/DrDoS_DNS.csv\")\n",
    "ldap1 = pd.read_csv('01-12/DrDoS_LDAP.csv')\n",
    "mssql1 = pd.read_csv('01-12/DrDoS_MSSQL.csv')\n",
    "netbois1 = pd.read_csv('01-12/DrDoS_NetBIOS.csv')\n",
    "ntp = pd.read_csv('01-12/DrDoS_NTP.csv')\n",
    "snmp = pd.read_csv('01-12/DrDoS_SNMP.csv')\n",
    "ssdp = pd.read_csv('01-12/DrDoS_SSDP.csv')\n",
    "udp1 = pd.read_csv('01-12/DrDoS_UDP.csv')\n",
    "syn1 = pd.read_csv('01-12/Syn.csv')\n",
    "tftp = pd.read_csv('01-12/TFTP.csv')\n",
    "udplag1 = pd.read_csv('01-12/UDPLag.csv') \n",
    "ldap2 = pd.read_csv('03-11/LDAP.csv')\n",
    "mssql2 = pd.read_csv('03-11/MSSQL.csv')\n",
    "netbios = pd.read_csv('03-11/NetBIOS.csv')\n",
    "portmap = pd.read_csv('03-11/Portmap.csv')\n",
    "syn2 = pd.read_csv('03-11/Syn.csv')\n",
    "udp2 = pd.read_csv('03-11/UDP.csv')\n",
    "udplag2 = pd.read_csv('03-11/UDPLag.csv') "
   ]
  },
  {
   "cell_type": "code",
   "execution_count": 3,
   "metadata": {},
   "outputs": [],
   "source": [
    "data = pd.concat([dns1, ldap1, mssql1, netbois1, ntp, snmp, ssdp, udp1, syn1, tftp, udplag1,\n",
    "                 ldap2, mssql2, netbios, portmap, syn2, udp2, udplag2])"
   ]
  },
  {
   "cell_type": "code",
   "execution_count": 4,
   "metadata": {},
   "outputs": [
    {
     "data": {
      "text/plain": [
       "20"
      ]
     },
     "execution_count": 4,
     "metadata": {},
     "output_type": "execute_result"
    }
   ],
   "source": [
    "del dns1\n",
    "del ldap1\n",
    "del mssql1\n",
    "del netbois1\n",
    "del ntp\n",
    "del snmp\n",
    "del ssdp\n",
    "del udp1\n",
    "del syn1\n",
    "del tftp\n",
    "del udplag1\n",
    "del ldap2\n",
    "del mssql2\n",
    "del netbios\n",
    "del portmap\n",
    "del syn2\n",
    "del udp2\n",
    "del udplag2\n",
    "gc.collect()"
   ]
  },
  {
   "cell_type": "code",
   "execution_count": 5,
   "metadata": {},
   "outputs": [
    {
     "data": {
      "text/plain": [
       "TFTP             20082580\n",
       "Syn               6473789\n",
       "MSSQL             5787453\n",
       "DrDoS_SNMP        5159870\n",
       "DrDoS_DNS         5071011\n",
       "DrDoS_MSSQL       4522492\n",
       "DrDoS_NetBIOS     4093279\n",
       "UDP               3867155\n",
       "NetBIOS           3657497\n",
       "DrDoS_UDP         3134645\n",
       "DrDoS_SSDP        2610611\n",
       "DrDoS_LDAP        2179930\n",
       "LDAP              1915122\n",
       "DrDoS_NTP         1202642\n",
       "UDP-lag            366461\n",
       "Portmap            186960\n",
       "BENIGN             113828\n",
       "UDPLag               1873\n",
       "WebDDoS               439\n",
       "Name:  Label, dtype: int64"
      ]
     },
     "execution_count": 5,
     "metadata": {},
     "output_type": "execute_result"
    }
   ],
   "source": [
    "data[' Label'].value_counts()"
   ]
  },
  {
   "cell_type": "code",
   "execution_count": 6,
   "metadata": {},
   "outputs": [],
   "source": [
    "data[' Label'] = data[' Label'].replace({'DrDoS_DNS':'DNS', 'DrDoS_LDAP':'LDAP', 'DrDoS_MSSQL':'MSSQL',\n",
    "                                        'DrDoS_NetBIOS':'NetBIOS', 'DrDoS_NTP':'NTP', 'DrDoS_SNMP':'SNMP',\n",
    "                                        'DrDoS_SSDP':'SSDP', 'DrDoS_UDP':'UDP', 'UDP-lag':'UDPLag'})"
   ]
  },
  {
   "cell_type": "code",
   "execution_count": 7,
   "metadata": {},
   "outputs": [
    {
     "data": {
      "text/plain": [
       "TFTP       20082580\n",
       "MSSQL      10309945\n",
       "NetBIOS     7750776\n",
       "UDP         7001800\n",
       "Syn         6473789\n",
       "SNMP        5159870\n",
       "DNS         5071011\n",
       "LDAP        4095052\n",
       "SSDP        2610611\n",
       "NTP         1202642\n",
       "UDPLag       368334\n",
       "Portmap      186960\n",
       "BENIGN       113828\n",
       "WebDDoS         439\n",
       "Name:  Label, dtype: int64"
      ]
     },
     "execution_count": 7,
     "metadata": {},
     "output_type": "execute_result"
    }
   ],
   "source": [
    "data[' Label'].value_counts()"
   ]
  },
  {
   "cell_type": "code",
   "execution_count": 8,
   "metadata": {},
   "outputs": [],
   "source": [
    "#data.count\n",
    "#[70427637 rows x 88 columns]"
   ]
  },
  {
   "cell_type": "code",
   "execution_count": 9,
   "metadata": {},
   "outputs": [
    {
     "name": "stdout",
     "output_type": "stream",
     "text": [
      "Unnamed: 0 \t\t\t 425\n",
      "Flow ID \t\t\t 172.16.0.5-192.168.50.1-634-60495-17\n",
      " Source IP \t\t\t 172.16.0.5\n",
      " Source Port \t\t\t 634\n",
      " Destination IP \t\t\t 192.168.50.1\n",
      " Destination Port \t\t\t 60495\n",
      " Protocol \t\t\t 17\n",
      " Timestamp \t\t\t 2018-12-01 10:51:39.813448\n",
      " Flow Duration \t\t\t 28415\n",
      " Total Fwd Packets \t\t\t 97\n",
      " Total Backward Packets \t\t\t 0\n",
      "Total Length of Fwd Packets \t\t\t 42680.0\n",
      " Total Length of Bwd Packets \t\t\t 0.0\n",
      " Fwd Packet Length Max \t\t\t 440.0\n",
      " Fwd Packet Length Min \t\t\t 440.0\n",
      " Fwd Packet Length Mean \t\t\t 440.0\n",
      " Fwd Packet Length Std \t\t\t 0.0\n",
      "Bwd Packet Length Max \t\t\t 0.0\n",
      " Bwd Packet Length Min \t\t\t 0.0\n",
      " Bwd Packet Length Mean \t\t\t 0.0\n",
      " Bwd Packet Length Std \t\t\t 0.0\n",
      "Flow Bytes/s \t\t\t 1502023.5790955485\n",
      " Flow Packets/s \t\t\t 3413.689952489882\n",
      " Flow IAT Mean \t\t\t 295.98958333333337\n",
      " Flow IAT Std \t\t\t 500.95930068517794\n",
      " Flow IAT Max \t\t\t 3596.0\n",
      " Flow IAT Min \t\t\t 1.0\n",
      "Fwd IAT Total \t\t\t 28415.0\n",
      " Fwd IAT Mean \t\t\t 295.98958333333337\n",
      " Fwd IAT Std \t\t\t 500.95930068517794\n",
      " Fwd IAT Max \t\t\t 3596.0\n",
      " Fwd IAT Min \t\t\t 1.0\n",
      "Bwd IAT Total \t\t\t 0.0\n",
      " Bwd IAT Mean \t\t\t 0.0\n",
      " Bwd IAT Std \t\t\t 0.0\n",
      " Bwd IAT Max \t\t\t 0.0\n",
      " Bwd IAT Min \t\t\t 0.0\n",
      "Fwd PSH Flags \t\t\t 0\n",
      " Bwd PSH Flags \t\t\t 0\n",
      " Fwd URG Flags \t\t\t 0\n",
      " Bwd URG Flags \t\t\t 0\n",
      " Fwd Header Length \t\t\t -97\n",
      " Bwd Header Length \t\t\t 0\n",
      "Fwd Packets/s \t\t\t 3413.689952489882\n",
      " Bwd Packets/s \t\t\t 0.0\n",
      " Min Packet Length \t\t\t 440.0\n",
      " Max Packet Length \t\t\t 440.0\n",
      " Packet Length Mean \t\t\t 440.0\n",
      " Packet Length Std \t\t\t 0.0\n",
      " Packet Length Variance \t\t\t 0.0\n",
      "FIN Flag Count \t\t\t 0\n",
      " SYN Flag Count \t\t\t 0\n",
      " RST Flag Count \t\t\t 0\n",
      " PSH Flag Count \t\t\t 0\n",
      " ACK Flag Count \t\t\t 0\n",
      " URG Flag Count \t\t\t 0\n",
      " CWE Flag Count \t\t\t 0\n",
      " ECE Flag Count \t\t\t 0\n",
      " Down/Up Ratio \t\t\t 0.0\n",
      " Average Packet Size \t\t\t 444.5360824742268\n",
      " Avg Fwd Segment Size \t\t\t 440.0\n",
      " Avg Bwd Segment Size \t\t\t 0.0\n",
      " Fwd Header Length.1 \t\t\t -97\n",
      "Fwd Avg Bytes/Bulk \t\t\t 0\n",
      " Fwd Avg Packets/Bulk \t\t\t 0\n",
      " Fwd Avg Bulk Rate \t\t\t 0\n",
      " Bwd Avg Bytes/Bulk \t\t\t 0\n",
      " Bwd Avg Packets/Bulk \t\t\t 0\n",
      "Bwd Avg Bulk Rate \t\t\t 0\n",
      "Subflow Fwd Packets \t\t\t 97\n",
      " Subflow Fwd Bytes \t\t\t 42680\n",
      " Subflow Bwd Packets \t\t\t 0\n",
      " Subflow Bwd Bytes \t\t\t 0\n",
      "Init_Win_bytes_forward \t\t\t -1\n",
      " Init_Win_bytes_backward \t\t\t -1\n",
      " act_data_pkt_fwd \t\t\t 96\n",
      " min_seg_size_forward \t\t\t -1\n",
      "Active Mean \t\t\t 0.0\n",
      " Active Std \t\t\t 0.0\n",
      " Active Max \t\t\t 0.0\n",
      " Active Min \t\t\t 0.0\n",
      "Idle Mean \t\t\t 0.0\n",
      " Idle Std \t\t\t 0.0\n",
      " Idle Max \t\t\t 0.0\n",
      " Idle Min \t\t\t 0.0\n",
      "SimillarHTTP \t\t\t 0\n",
      " Inbound \t\t\t 1\n",
      " Label \t\t\t DNS\n"
     ]
    }
   ],
   "source": [
    "# data sample\n",
    "col = list(data.columns)\n",
    "for i in range(len(data.iloc[0])):\n",
    "    print(col[i], '\\t\\t\\t', data.iloc[0][i])"
   ]
  },
  {
   "cell_type": "markdown",
   "metadata": {},
   "source": [
    "### Handling outliers (won't work)"
   ]
  },
  {
   "cell_type": "markdown",
   "metadata": {},
   "source": [
    "cols = list(data.columns)\n",
    "cols.remove('Unnamed: 0')\n",
    "cols.remove('Flow ID')\n",
    "cols.remove(' Source IP')\n",
    "cols.remove(' Destination IP')\n",
    "cols.remove(' Timestamp')\n",
    "cols.remove(' Label')\n",
    "for c in cols:\n",
    "    q1 = np.percentile(data[c],25)\n",
    "    q3 = np.percentile(data[c],75)\n",
    "    out_limit = 1.5 * (q3 - q1)\n",
    "    out_cols = data[(data[c] < q1 - out_limit) | (data[c] > q3 + out_limit)].index\n",
    "    print(c, out_cols)\n"
   ]
  },
  {
   "cell_type": "markdown",
   "metadata": {},
   "source": [
    "Unnamed: 0"
   ]
  },
  {
   "cell_type": "markdown",
   "metadata": {},
   "source": [
    "### Feature Engineering"
   ]
  },
  {
   "cell_type": "code",
   "execution_count": 10,
   "metadata": {},
   "outputs": [],
   "source": [
    "source_ip = [int(''.join([bin(int(x)+256)[3:] for x in ip.split('.')]),2) for ip in data[' Source IP']]\n",
    "data[' Source IP'] = pd.Series(source_ip)"
   ]
  },
  {
   "cell_type": "code",
   "execution_count": 11,
   "metadata": {},
   "outputs": [],
   "source": [
    "dest_ip = [int(''.join([bin(int(x)+256)[3:] for x in ip.split('.')]),2) for ip in data[' Destination IP']]\n",
    "data[' Destination IP'] = pd.Series(dest_ip)"
   ]
  },
  {
   "cell_type": "code",
   "execution_count": 12,
   "metadata": {},
   "outputs": [
    {
     "data": {
      "text/plain": [
       "60"
      ]
     },
     "execution_count": 12,
     "metadata": {},
     "output_type": "execute_result"
    }
   ],
   "source": [
    "data_Y = data[' Label'].to_numpy().flatten()\n",
    "data_X = data.drop(columns=['Flow ID',' Timestamp', ' Label'])\n",
    "del data\n",
    "gc.collect()"
   ]
  },
  {
   "cell_type": "markdown",
   "metadata": {},
   "source": [
    "### PCA"
   ]
  },
  {
   "cell_type": "code",
   "execution_count": null,
   "metadata": {},
   "outputs": [],
   "source": [
    "pca = PCA(n_components=2)\n",
    "data_X_pca = pca.fit_transform(data_X)"
   ]
  },
  {
   "cell_type": "code",
   "execution_count": null,
   "metadata": {},
   "outputs": [],
   "source": [
    "plt.scatter(data_X_pca[:, 0], data_X_pca[:, 1],marker='o')\n",
    "plt.show()"
   ]
  },
  {
   "cell_type": "markdown",
   "metadata": {},
   "source": [
    "visualizer2d = PCA(scale=False, classes=list(np.unique(data_Y)))\n",
    "visualizer2d.fit_transform(data_X, data_Y)\n",
    "visualizer2d.show()"
   ]
  },
  {
   "cell_type": "markdown",
   "metadata": {},
   "source": [
    "### Some EDA"
   ]
  },
  {
   "cell_type": "code",
   "execution_count": null,
   "metadata": {},
   "outputs": [],
   "source": [
    "data['Unnamed: 0'].value_counts()"
   ]
  },
  {
   "cell_type": "code",
   "execution_count": null,
   "metadata": {},
   "outputs": [],
   "source": [
    "data['Unnamed: 0'].value_counts().sort_index().plot(style='.')"
   ]
  },
  {
   "cell_type": "markdown",
   "metadata": {},
   "source": [
    "Source IP"
   ]
  },
  {
   "cell_type": "code",
   "execution_count": null,
   "metadata": {},
   "outputs": [],
   "source": [
    "data[' Source IP'].value_counts()"
   ]
  },
  {
   "cell_type": "markdown",
   "metadata": {},
   "source": [
    "Source Port"
   ]
  },
  {
   "cell_type": "code",
   "execution_count": null,
   "metadata": {},
   "outputs": [],
   "source": [
    "data[' Source Port'].value_counts()"
   ]
  },
  {
   "cell_type": "code",
   "execution_count": null,
   "metadata": {},
   "outputs": [],
   "source": [
    "data[' Source Port'].value_counts().sort_index().plot(style='.')"
   ]
  },
  {
   "cell_type": "markdown",
   "metadata": {},
   "source": [
    "Destination Port"
   ]
  },
  {
   "cell_type": "code",
   "execution_count": null,
   "metadata": {},
   "outputs": [],
   "source": [
    "data[' Destination Port'].value_counts()"
   ]
  },
  {
   "cell_type": "code",
   "execution_count": null,
   "metadata": {},
   "outputs": [],
   "source": [
    "data[' Destination Port'].value_counts().sort_index().plot(style='.')"
   ]
  },
  {
   "cell_type": "markdown",
   "metadata": {},
   "source": [
    "Protocol"
   ]
  },
  {
   "cell_type": "code",
   "execution_count": null,
   "metadata": {},
   "outputs": [],
   "source": [
    "data[' Protocol'].value_counts()"
   ]
  },
  {
   "cell_type": "markdown",
   "metadata": {},
   "source": [
    "Flow Duration"
   ]
  },
  {
   "cell_type": "code",
   "execution_count": null,
   "metadata": {},
   "outputs": [],
   "source": [
    "data[' Flow Duration'].value_counts()"
   ]
  },
  {
   "cell_type": "code",
   "execution_count": null,
   "metadata": {},
   "outputs": [],
   "source": [
    "data[' Flow Duration'].value_counts().sort_index().plot(style='.')"
   ]
  },
  {
   "cell_type": "markdown",
   "metadata": {},
   "source": [
    "Total Fwd Packets"
   ]
  },
  {
   "cell_type": "code",
   "execution_count": null,
   "metadata": {},
   "outputs": [],
   "source": [
    "data[' Total Fwd Packets'].value_counts()"
   ]
  },
  {
   "cell_type": "code",
   "execution_count": null,
   "metadata": {},
   "outputs": [],
   "source": [
    "data[' Total Fwd Packets'].value_counts().sort_index().plot(style='.')"
   ]
  },
  {
   "cell_type": "markdown",
   "metadata": {},
   "source": [
    "Total Backward Packets"
   ]
  },
  {
   "cell_type": "code",
   "execution_count": null,
   "metadata": {},
   "outputs": [],
   "source": [
    "data[' Total Backward Packets'].value_counts()"
   ]
  },
  {
   "cell_type": "code",
   "execution_count": null,
   "metadata": {},
   "outputs": [],
   "source": [
    "data[' Total Backward Packets'].value_counts().sort_index().plot(style='.')"
   ]
  },
  {
   "cell_type": "markdown",
   "metadata": {},
   "source": [
    "Total Length of Fwd Packets"
   ]
  },
  {
   "cell_type": "code",
   "execution_count": null,
   "metadata": {},
   "outputs": [],
   "source": [
    "data['Total Length of Fwd Packets'].value_counts()"
   ]
  },
  {
   "cell_type": "code",
   "execution_count": null,
   "metadata": {},
   "outputs": [],
   "source": [
    "data['Total Length of Fwd Packets'].value_counts().sort_index().plot(style='.')"
   ]
  },
  {
   "cell_type": "markdown",
   "metadata": {},
   "source": [
    " Total Length of Bwd Packets"
   ]
  },
  {
   "cell_type": "code",
   "execution_count": null,
   "metadata": {},
   "outputs": [],
   "source": [
    "data[' Total Length of Bwd Packets'].value_counts()"
   ]
  },
  {
   "cell_type": "code",
   "execution_count": null,
   "metadata": {},
   "outputs": [],
   "source": [
    "data[' Total Length of Bwd Packets'].value_counts().sort_index().plot(style='.')"
   ]
  },
  {
   "cell_type": "markdown",
   "metadata": {},
   "source": [
    " Fwd Packet Length Max \t"
   ]
  },
  {
   "cell_type": "code",
   "execution_count": null,
   "metadata": {},
   "outputs": [],
   "source": [
    "data[' Fwd Packet Length Max'].value_counts()"
   ]
  },
  {
   "cell_type": "code",
   "execution_count": null,
   "metadata": {},
   "outputs": [],
   "source": [
    "data[' Fwd Packet Length Max'].value_counts().sort_index().plot(style='.')"
   ]
  },
  {
   "cell_type": "markdown",
   "metadata": {},
   "source": [
    " Fwd Packet Length Min"
   ]
  },
  {
   "cell_type": "code",
   "execution_count": null,
   "metadata": {},
   "outputs": [],
   "source": [
    "data[' Fwd Packet Length Min'].value_counts()"
   ]
  },
  {
   "cell_type": "code",
   "execution_count": null,
   "metadata": {},
   "outputs": [],
   "source": [
    "data[' Fwd Packet Length Min'].value_counts().sort_index().plot(style='.')"
   ]
  },
  {
   "cell_type": "markdown",
   "metadata": {},
   "source": [
    " Fwd Packet Length Mean"
   ]
  },
  {
   "cell_type": "code",
   "execution_count": null,
   "metadata": {},
   "outputs": [],
   "source": [
    "data[' Fwd Packet Length Mean'].value_counts()"
   ]
  },
  {
   "cell_type": "code",
   "execution_count": null,
   "metadata": {},
   "outputs": [],
   "source": [
    "data[' Fwd Packet Length Mean'].value_counts().sort_index().plot(style='.')"
   ]
  },
  {
   "cell_type": "markdown",
   "metadata": {},
   "source": [
    " Fwd Packet Length Std"
   ]
  },
  {
   "cell_type": "code",
   "execution_count": null,
   "metadata": {},
   "outputs": [],
   "source": [
    "data[' Fwd Packet Length Std'].value_counts()"
   ]
  },
  {
   "cell_type": "code",
   "execution_count": null,
   "metadata": {},
   "outputs": [],
   "source": [
    "data[' Fwd Packet Length Std'].value_counts().sort_index().plot(style='.')"
   ]
  },
  {
   "cell_type": "markdown",
   "metadata": {},
   "source": [
    "Bwd Packet Length Max "
   ]
  },
  {
   "cell_type": "code",
   "execution_count": null,
   "metadata": {},
   "outputs": [],
   "source": [
    "data['Bwd Packet Length Max'].value_counts()"
   ]
  },
  {
   "cell_type": "code",
   "execution_count": null,
   "metadata": {},
   "outputs": [],
   "source": [
    "data['Bwd Packet Length Max'].value_counts().sort_index().plot(style='.')"
   ]
  },
  {
   "cell_type": "markdown",
   "metadata": {},
   "source": [
    " Bwd Packet Length Min"
   ]
  },
  {
   "cell_type": "code",
   "execution_count": null,
   "metadata": {},
   "outputs": [],
   "source": [
    "data[' Bwd Packet Length Min'].value_counts()"
   ]
  },
  {
   "cell_type": "code",
   "execution_count": null,
   "metadata": {},
   "outputs": [],
   "source": [
    "data[' Bwd Packet Length Min'].value_counts().sort_index().plot(style='.')"
   ]
  },
  {
   "cell_type": "markdown",
   "metadata": {},
   "source": [
    " Bwd Packet Length Mean"
   ]
  },
  {
   "cell_type": "code",
   "execution_count": null,
   "metadata": {},
   "outputs": [],
   "source": [
    "data[' Bwd Packet Length Mean'].value_counts()"
   ]
  },
  {
   "cell_type": "code",
   "execution_count": null,
   "metadata": {},
   "outputs": [],
   "source": [
    "data[' Bwd Packet Length Mean'].value_counts().sort_index().plot(style='.')"
   ]
  },
  {
   "cell_type": "markdown",
   "metadata": {},
   "source": [
    " Bwd Packet Length Std"
   ]
  },
  {
   "cell_type": "code",
   "execution_count": null,
   "metadata": {},
   "outputs": [],
   "source": [
    "data[' Bwd Packet Length Std'].value_counts()"
   ]
  },
  {
   "cell_type": "code",
   "execution_count": null,
   "metadata": {},
   "outputs": [],
   "source": [
    "data[' Bwd Packet Length Std'].value_counts().sort_index().plot(style='.')"
   ]
  },
  {
   "cell_type": "markdown",
   "metadata": {},
   "source": [
    "Flow Bytes/s "
   ]
  },
  {
   "cell_type": "code",
   "execution_count": null,
   "metadata": {},
   "outputs": [],
   "source": [
    "data['Flow Bytes/s'].value_counts()"
   ]
  },
  {
   "cell_type": "code",
   "execution_count": null,
   "metadata": {},
   "outputs": [],
   "source": [
    "data['Flow Bytes/s'].value_counts().sort_index().plot(style='.')"
   ]
  },
  {
   "cell_type": "markdown",
   "metadata": {},
   "source": [
    " Flow Packets/s"
   ]
  },
  {
   "cell_type": "code",
   "execution_count": null,
   "metadata": {},
   "outputs": [],
   "source": [
    "data[' Flow Packets/s'].value_counts()"
   ]
  },
  {
   "cell_type": "code",
   "execution_count": null,
   "metadata": {},
   "outputs": [],
   "source": [
    "data[' Flow Packets/s'].value_counts().sort_index().plot(style='.')"
   ]
  },
  {
   "cell_type": "markdown",
   "metadata": {},
   "source": [
    " Flow IAT Mean"
   ]
  },
  {
   "cell_type": "code",
   "execution_count": null,
   "metadata": {},
   "outputs": [],
   "source": [
    "data[' Flow IAT Mean'].value_counts()"
   ]
  },
  {
   "cell_type": "code",
   "execution_count": null,
   "metadata": {},
   "outputs": [],
   "source": [
    "data[' Flow IAT Mean'].value_counts().sort_index().plot(style='.')"
   ]
  },
  {
   "cell_type": "markdown",
   "metadata": {},
   "source": [
    " Flow IAT Std"
   ]
  },
  {
   "cell_type": "code",
   "execution_count": null,
   "metadata": {},
   "outputs": [],
   "source": [
    "data[' Flow IAT Std'].value_counts()"
   ]
  },
  {
   "cell_type": "code",
   "execution_count": null,
   "metadata": {},
   "outputs": [],
   "source": [
    "data[' Flow IAT Std'].value_counts().sort_index().plot(style='.')"
   ]
  },
  {
   "cell_type": "markdown",
   "metadata": {},
   "source": [
    " Flow IAT Max"
   ]
  },
  {
   "cell_type": "code",
   "execution_count": null,
   "metadata": {},
   "outputs": [],
   "source": [
    "data[' Flow IAT Max'].value_counts()"
   ]
  },
  {
   "cell_type": "code",
   "execution_count": null,
   "metadata": {},
   "outputs": [],
   "source": [
    "data[' Flow IAT Max'].value_counts().sort_index().plot(style='.')"
   ]
  },
  {
   "cell_type": "markdown",
   "metadata": {},
   "source": [
    " Flow IAT Min"
   ]
  },
  {
   "cell_type": "code",
   "execution_count": null,
   "metadata": {},
   "outputs": [],
   "source": [
    "data[' Flow IAT Min'].value_counts()"
   ]
  },
  {
   "cell_type": "code",
   "execution_count": null,
   "metadata": {},
   "outputs": [],
   "source": [
    "data[' Flow IAT Min'].value_counts().sort_index().plot(style='.')"
   ]
  },
  {
   "cell_type": "markdown",
   "metadata": {},
   "source": [
    "Fwd IAT Total"
   ]
  },
  {
   "cell_type": "code",
   "execution_count": null,
   "metadata": {},
   "outputs": [],
   "source": [
    "data['Fwd IAT Total'].value_counts()"
   ]
  },
  {
   "cell_type": "code",
   "execution_count": null,
   "metadata": {},
   "outputs": [],
   "source": [
    "data['Fwd IAT Total'].value_counts().sort_index().plot(style='.')"
   ]
  },
  {
   "cell_type": "markdown",
   "metadata": {},
   "source": [
    "Fwd IAT Mean"
   ]
  },
  {
   "cell_type": "code",
   "execution_count": null,
   "metadata": {},
   "outputs": [],
   "source": [
    "data[' Fwd IAT Mean'].value_counts()"
   ]
  },
  {
   "cell_type": "code",
   "execution_count": null,
   "metadata": {},
   "outputs": [],
   "source": [
    "data[' Fwd IAT Mean'].value_counts().sort_index().plot(style='.')"
   ]
  },
  {
   "cell_type": "markdown",
   "metadata": {},
   "source": [
    "Fwd IAT Std"
   ]
  },
  {
   "cell_type": "code",
   "execution_count": null,
   "metadata": {},
   "outputs": [],
   "source": [
    "data[' Fwd IAT Std'].value_counts()"
   ]
  },
  {
   "cell_type": "code",
   "execution_count": null,
   "metadata": {},
   "outputs": [],
   "source": [
    "data[' Fwd IAT Std'].value_counts().sort_index().plot(style='.')"
   ]
  },
  {
   "cell_type": "markdown",
   "metadata": {},
   "source": [
    "Fwd IAT Max"
   ]
  },
  {
   "cell_type": "code",
   "execution_count": null,
   "metadata": {},
   "outputs": [],
   "source": [
    "data[' Fwd IAT Max'].value_counts()"
   ]
  },
  {
   "cell_type": "code",
   "execution_count": null,
   "metadata": {},
   "outputs": [],
   "source": [
    "data[' Fwd IAT Max'].value_counts().sort_index().plot(style='.')"
   ]
  },
  {
   "cell_type": "markdown",
   "metadata": {},
   "source": [
    "Fwd IAT Min"
   ]
  },
  {
   "cell_type": "code",
   "execution_count": null,
   "metadata": {},
   "outputs": [],
   "source": [
    "data[' Fwd IAT Min'].value_counts()"
   ]
  },
  {
   "cell_type": "code",
   "execution_count": null,
   "metadata": {},
   "outputs": [],
   "source": [
    "data[' Fwd IAT Min'].value_counts().sort_index().plot(style='.')"
   ]
  },
  {
   "cell_type": "code",
   "execution_count": null,
   "metadata": {},
   "outputs": [],
   "source": []
  }
 ],
 "metadata": {
  "kernelspec": {
   "display_name": "Python 3",
   "language": "python",
   "name": "python3"
  },
  "language_info": {
   "codemirror_mode": {
    "name": "ipython",
    "version": 3
   },
   "file_extension": ".py",
   "mimetype": "text/x-python",
   "name": "python",
   "nbconvert_exporter": "python",
   "pygments_lexer": "ipython3",
   "version": "3.7.6"
  }
 },
 "nbformat": 4,
 "nbformat_minor": 4
}
